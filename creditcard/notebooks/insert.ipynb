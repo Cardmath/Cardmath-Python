{
 "cells": [
  {
   "cell_type": "markdown",
   "metadata": {},
   "source": [
    "## Insert New Sources\n",
    "Run this script to insert new credit cards from CSV file where each row is some plain, unstructured text describing a credit card offer.   "
   ]
  },
  {
   "cell_type": "code",
   "execution_count": 3,
   "metadata": {},
   "outputs": [
    {
     "name": "stdout",
     "output_type": "stream",
     "text": [
      "The autoreload extension is already loaded. To reload it, use:\n",
      "  %reload_ext autoreload\n"
     ]
    }
   ],
   "source": [
    "%load_ext autoreload\n",
    "%autoreload 2\n",
    "import os\n",
    "import sys\n",
    "import numpy as np\n",
    "module_path = os.path.abspath(os.path.join('/home/johannes/Cardmath/Cardmath-Python')) # or the path to your source code\n",
    "sys.path.insert(0, module_path)"
   ]
  },
  {
   "cell_type": "code",
   "execution_count": 4,
   "metadata": {},
   "outputs": [],
   "source": [
    "from auth.secrets import load_essential_secrets\n",
    "from creditcard.structure.task_queue import insert_from_csv, empty_task_queue\n",
    "\n",
    "load_essential_secrets()"
   ]
  },
  {
   "cell_type": "code",
   "execution_count": 5,
   "metadata": {},
   "outputs": [],
   "source": [
    "PATH = '/home/johannes/Downloads/creditcards - source_base.csv'"
   ]
  },
  {
   "cell_type": "code",
   "execution_count": 4,
   "metadata": {},
   "outputs": [
    {
     "name": "stderr",
     "output_type": "stream",
     "text": [
      "Processing CSV rows: 100%|██████████| 436/436 [11:10<00:00,  1.54s/it, Could not insert={'{\"name\":\"Marriott Bonvoy Business® American Express® Card\",\"issuer\":\"American Express\",\"network\":\"American Express\",\"key\":null}'}]                         \n"
     ]
    }
   ],
   "source": [
    "insert_from_csv(PATH)"
   ]
  },
  {
   "cell_type": "code",
   "execution_count": 6,
   "metadata": {},
   "outputs": [
    {
     "name": "stderr",
     "output_type": "stream",
     "text": [
      "Processing tasks: 100%|██████████| 33/33 [05:36<00:00, 10.19s/it]\n"
     ]
    }
   ],
   "source": [
    "empty_task_queue()"
   ]
  }
 ],
 "metadata": {
  "kernelspec": {
   "display_name": "cmvenv",
   "language": "python",
   "name": "python3"
  },
  "language_info": {
   "codemirror_mode": {
    "name": "ipython",
    "version": 3
   },
   "file_extension": ".py",
   "mimetype": "text/x-python",
   "name": "python",
   "nbconvert_exporter": "python",
   "pygments_lexer": "ipython3",
   "version": "3.12.3"
  }
 },
 "nbformat": 4,
 "nbformat_minor": 2
}
